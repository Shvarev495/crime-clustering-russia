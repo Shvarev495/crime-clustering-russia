{
 "cells": [
  {
   "cell_type": "markdown",
   "id": "e412295c",
   "metadata": {},
   "source": [
    "# 🔍 Анализ преступности в регионах России (2011–2022)\n",
    "В этом проекте проводится исследование преступности по федеральным округам и регионам России с использованием кластеризации и PCA. Также выявляются наиболее часто встречающиеся статьи УК РФ в разных кластерах."
   ]
  },
  {
   "cell_type": "code",
   "execution_count": null,
   "id": "e3963fe9",
   "metadata": {},
   "outputs": [],
   "source": [
    "import pandas as pd\n",
    "import numpy as np\n",
    "import matplotlib.pyplot as plt\n",
    "import seaborn as sns\n",
    "from sklearn.decomposition import PCA\n",
    "from sklearn.cluster import KMeans\n",
    "from sklearn.preprocessing import StandardScaler\n",
    "from sklearn.feature_extraction.text import TfidfVectorizer\n",
    "import warnings\n",
    "warnings.filterwarnings('ignore')"
   ]
  },
  {
   "cell_type": "code",
   "execution_count": null,
   "id": "0075c551",
   "metadata": {},
   "outputs": [],
   "source": [
    "# Загрузка данных\n",
    "df = pd.read_excel('data_crime_107_v20231202_long.xlsx')\n",
    "df.shape"
   ]
  },
  {
   "cell_type": "code",
   "execution_count": null,
   "id": "c6e498ab",
   "metadata": {},
   "outputs": [],
   "source": [
    "# Подготовка данных по федеральным округам\n",
    "okrug_df = df[(df['object_level'] == 'федеральный округ') &\n",
    "              (df['indicator_unit'] == 'единиц') &\n",
    "              (df['year'].between(2011, 2022))]\n",
    "target_indicators = [\n",
    "    'Не раскрыто',\n",
    "    'Предварительно расследовано',\n",
    "    'Зарегистрировано',\n",
    "    'дела о которых направлены в суд'\n",
    "]\n",
    "okrug_df = okrug_df[okrug_df['indicator_name'].str.contains('|'.join(target_indicators))]\n",
    "okrug_df['indicator_year'] = okrug_df.apply(\n",
    "    lambda row: f\"{[k for k in target_indicators if k in row['indicator_name']][0]}_{row['year']}\", axis=1\n",
    ")\n",
    "stat_okrug = okrug_df.pivot_table(index='object_name',\n",
    "                                  columns='indicator_year',\n",
    "                                  values='indicator_value',\n",
    "                                  aggfunc='sum').fillna(0)\n",
    "stat_okrug.head()"
   ]
  },
  {
   "cell_type": "code",
   "execution_count": null,
   "id": "d2a3f4a9",
   "metadata": {},
   "outputs": [],
   "source": [
    "# Кластеризация федеральных округов\n",
    "scaler = StandardScaler()\n",
    "X_scaled = scaler.fit_transform(stat_okrug)\n",
    "kmeans = KMeans(n_clusters=3, random_state=42)\n",
    "okrug_labels = kmeans.fit_predict(X_scaled)\n",
    "stat_okrug['cluster'] = okrug_labels\n",
    "stat_okrug[['cluster']].sort_values('cluster')"
   ]
  },
  {
   "cell_type": "code",
   "execution_count": null,
   "id": "7bc79e7c",
   "metadata": {},
   "outputs": [],
   "source": [
    "# Визуализация временных рядов\n",
    "stat_okrug.drop(columns='cluster').T.plot(figsize=(12, 6))\n",
    "plt.title('Динамика по всем округам')\n",
    "plt.ylabel('Количество преступлений')\n",
    "plt.grid(True)\n",
    "plt.tight_layout()\n",
    "plt.show()"
   ]
  },
  {
   "cell_type": "code",
   "execution_count": null,
   "id": "718986ab",
   "metadata": {},
   "outputs": [],
   "source": [
    "# Работа с данными по статьям УК РФ\n",
    "region_df = df[(df['object_level'] == 'регион') &\n",
    "               (df['indicator_unit'] == 'единиц') &\n",
    "               (df['year'].between(2011, 2022))]\n",
    "region_df = region_df[region_df['indicator_name'].str.contains('|'.join(target_indicators))]\n",
    "region_df['indicator_year'] = region_df.apply(\n",
    "    lambda row: f\"{[k for k in target_indicators if k in row['indicator_name']][0]}_{row['year']}\", axis=1\n",
    ")\n",
    "stat_region = region_df.pivot_table(index='object_name',\n",
    "                                    columns='indicator_year',\n",
    "                                    values='indicator_value',\n",
    "                                    aggfunc='sum').fillna(0)\n",
    "X_region_scaled = scaler.fit_transform(stat_region)\n",
    "region_labels = kmeans.fit_predict(X_region_scaled)\n",
    "stat_region['cluster'] = region_labels\n",
    "normalized_region_names = stat_region.index.str.lower().str.replace('г. ', '').str.strip()"
   ]
  },
  {
   "cell_type": "code",
   "execution_count": null,
   "id": "74973519",
   "metadata": {},
   "outputs": [],
   "source": [
    "# Выявление статей УК РФ по кластерам\n",
    "article_df = df[(df['object_level'] == 'регион') &\n",
    "    (df['indicator_unit'] == 'единиц') &\n",
    "    (df['indicator_name'].str.contains(r'ст\\.', case=False, na=False))].copy()\n",
    "article_df['normalized_name'] = article_df['object_name'].str.lower().str.replace('г. ', '').str.strip()\n",
    "mapping = dict(zip(normalized_region_names, stat_region['cluster']))\n",
    "article_df['cluster'] = article_df['normalized_name'].map(mapping)\n",
    "article_df = article_df[~article_df['cluster'].isna()]\n",
    "top_articles_by_cluster = (\n",
    "    article_df.groupby('cluster')['indicator_name']\n",
    "    .apply(lambda x: x.value_counts().head(5))\n",
    ")\n",
    "print(top_articles_by_cluster)"
   ]
  },
  {
   "cell_type": "markdown",
   "id": "53a4f6a5",
   "metadata": {},
   "source": [
    "## 💡 Выводы\n",
    "- Выделены кластеры округов и регионов по уровню преступности\n",
    "- Определены регионы с положительной динамикой\n",
    "- Выявлены наиболее частые статьи УК РФ внутри каждого кластера"
   ]
  }
 ],
 "metadata": {},
 "nbformat": 4,
 "nbformat_minor": 5
}
